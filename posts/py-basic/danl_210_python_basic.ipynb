{
  "cells": [
    {
      "cell_type": "markdown",
      "id": "99a2c4ce",
      "metadata": {
        "id": "99a2c4ce"
      },
      "source": [
        "---\n",
        "title: Pyhton Basics\n",
        "author: Will Akin\n",
        "date: 2025-02-14\n",
        "categories: [python, programming] # tags for a blog post (e.g., python)\n",
        "image: \"pyth-basic.png\"\n",
        "\n",
        "toc: true\n",
        "---"
      ]
    },
    {
      "cell_type": "markdown",
      "id": "d888a05d",
      "metadata": {
        "id": "d888a05d"
      },
      "source": [
        "# Introduction to Python"
      ]
    },
    {
      "cell_type": "markdown",
      "id": "4ced8e71",
      "metadata": {
        "id": "4ced8e71"
      },
      "source": [
        "## What is Python?"
      ]
    },
    {
      "cell_type": "markdown",
      "id": "H9PipRWtEsfO",
      "metadata": {
        "id": "H9PipRWtEsfO"
      },
      "source": [
        "Python is a high-level, interpreted programming language. This is a simple Python code:"
      ]
    },
    {
      "cell_type": "code",
      "execution_count": null,
      "id": "834bc383",
      "metadata": {
        "id": "834bc383",
        "colab": {
          "base_uri": "https://localhost:8080/"
        },
        "outputId": "a833ff16-835f-499e-ca31-2476bf5a76ee"
      },
      "outputs": [
        {
          "output_type": "stream",
          "name": "stdout",
          "text": [
            "Hello, World!\n"
          ]
        }
      ],
      "source": [
        "print('Hello, World!')"
      ]
    },
    {
      "cell_type": "markdown",
      "id": "39f9fb03",
      "metadata": {
        "id": "39f9fb03"
      },
      "source": [
        "## Variables and Data Types"
      ]
    },
    {
      "cell_type": "markdown",
      "id": "ld1HKQ0XEvx3",
      "metadata": {
        "id": "ld1HKQ0XEvx3"
      },
      "source": [
        "In Python, variables can store data of different types without explicitly declaring the type.\n",
        "\n",
        "For example:"
      ]
    },
    {
      "cell_type": "code",
      "execution_count": null,
      "id": "e6744d1e",
      "metadata": {
        "colab": {
          "base_uri": "https://localhost:8080/"
        },
        "id": "e6744d1e",
        "outputId": "923d2d21-4a94-425b-9cd9-7cfd3521300c"
      },
      "outputs": [
        {
          "output_type": "execute_result",
          "data": {
            "text/plain": [
              "10.5"
            ]
          },
          "metadata": {},
          "execution_count": 36
        }
      ],
      "source": [
        "integer_variable = 10\n",
        "string_variable = 'Hello'\n",
        "float_variable = 10.5\n",
        "\n",
        "float_variable"
      ]
    },
    {
      "cell_type": "markdown",
      "id": "d01ba669",
      "metadata": {
        "id": "d01ba669"
      },
      "source": [
        "## Control Structures"
      ]
    },
    {
      "cell_type": "markdown",
      "id": "wMeC8exAE2Bv",
      "metadata": {
        "id": "wMeC8exAE2Bv"
      },
      "source": [
        "Python supports the usual logical conditions from mathematics:"
      ]
    },
    {
      "cell_type": "code",
      "execution_count": null,
      "id": "f74e2029",
      "metadata": {
        "id": "f74e2029"
      },
      "outputs": [],
      "source": [
        "# Equals: a == b\n",
        "# Not Equals: a != b\n",
        "# Less than: a < b\n",
        "# Less than or equal to: a <= b\n",
        "# Greater than: a > b\n",
        "# Greater than or equal to: a >= b"
      ]
    },
    {
      "cell_type": "markdown",
      "id": "T0RPCSNhE88q",
      "metadata": {
        "id": "T0RPCSNhE88q"
      },
      "source": [
        "These conditions can be used in several ways, most commonly in 'if statements' and loops."
      ]
    },
    {
      "cell_type": "code",
      "execution_count": null,
      "id": "WqMXB9zXE6rB",
      "metadata": {
        "id": "WqMXB9zXE6rB",
        "colab": {
          "base_uri": "https://localhost:8080/"
        },
        "outputId": "a5f7e5ff-1888-492a-ecdb-88e73b77abf1"
      },
      "outputs": [
        {
          "output_type": "stream",
          "name": "stdout",
          "text": [
            "Five is greater than two!\n"
          ]
        }
      ],
      "source": [
        "# if statement:\n",
        "if 5 > 2:\n",
        "    print('Five is greater than two!')"
      ]
    },
    {
      "cell_type": "markdown",
      "id": "d4d8f434",
      "metadata": {
        "id": "d4d8f434"
      },
      "source": [
        "## Functions"
      ]
    },
    {
      "cell_type": "markdown",
      "id": "_c3f-aluFEJH",
      "metadata": {
        "id": "_c3f-aluFEJH"
      },
      "source": [
        "A function is a block of code which only runs when it is called.\n",
        "\n",
        "You can pass data, known as parameters, into a function.\n",
        "\n",
        "A function can return data as a result.\n",
        "\n"
      ]
    },
    {
      "cell_type": "code",
      "execution_count": null,
      "id": "311db165",
      "metadata": {
        "id": "311db165",
        "colab": {
          "base_uri": "https://localhost:8080/"
        },
        "outputId": "7e261d5b-e75d-45b9-cae1-53b81fcb1745"
      },
      "outputs": [
        {
          "output_type": "stream",
          "name": "stdout",
          "text": [
            "Hello from a function\n"
          ]
        }
      ],
      "source": [
        "# Defining a function:\n",
        "def my_function():\n",
        "    print('Hello from a function')\n",
        "\n",
        "# Calling a function:\n",
        "my_function()"
      ]
    },
    {
      "cell_type": "markdown",
      "id": "e759a298",
      "metadata": {
        "id": "e759a298"
      },
      "source": [
        "## Lists and Dictionaries"
      ]
    },
    {
      "cell_type": "markdown",
      "id": "rVrAVX_gFQ1t",
      "metadata": {
        "id": "rVrAVX_gFQ1t"
      },
      "source": [
        "A list is a collection which is ordered and changeable.\n",
        "\n",
        "A dictionary is a collection which is unordered, changeable and indexed."
      ]
    },
    {
      "cell_type": "code",
      "execution_count": null,
      "id": "58d29398",
      "metadata": {
        "id": "58d29398"
      },
      "outputs": [],
      "source": [
        "# List example:\n",
        "my_list = ['apple', 'banana', 'cherry']\n",
        "\n",
        "# Dictionary example:\n",
        "my_dict = {'name': 'John', 'age': 36}"
      ]
    }
  ],
  "metadata": {
    "colab": {
      "provenance": []
    },
    "kernelspec": {
      "display_name": "Python 3",
      "name": "python3"
    },
    "language_info": {
      "name": "python"
    }
  },
  "nbformat": 4,
  "nbformat_minor": 5
}