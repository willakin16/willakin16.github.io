{
  "nbformat": 4,
  "nbformat_minor": 0,
  "metadata": {
    "colab": {
      "provenance": []
    },
    "kernelspec": {
      "name": "python3",
      "display_name": "Python 3"
    },
    "language_info": {
      "name": "python"
    }
  },
  "cells": [
    {
      "cell_type": "markdown",
      "source": [
        "---\n",
        "title: Spotify Post\n",
        "author: Will AKin\n",
        "date: 2025-03-01\n",
        "categories: [python, spotify] # tags for a blog post (e.g., python)\n",
        "image: \"spotify.png\"\n",
        "\n",
        "toc: true\n",
        "---"
      ],
      "metadata": {
        "id": "htO3yHkRuK2O"
      }
    },
    {
      "cell_type": "markdown",
      "source": [
        "#My Favorite Spotify Artist\n",
        "\n",
        "##My favority spotify artist is Taylor Swift.  I went to the Eras Tour in 2023!  My other favorite artists are Gracie Abrams and Billie Eilish"
      ],
      "metadata": {
        "id": "5jkgT7pgu_GN"
      }
    },
    {
      "cell_type": "markdown",
      "source": [
        "#Data Frames Code"
      ],
      "metadata": {
        "id": "he27EShKvZmC"
      }
    },
    {
      "cell_type": "code",
      "source": [
        ".merge()"
      ],
      "metadata": {
        "colab": {
          "base_uri": "https://localhost:8080/",
          "height": 105
        },
        "id": "wx-fi4UFvYFa",
        "outputId": "7e89e444-b928-4377-8fba-76852396e2e1"
      },
      "execution_count": 1,
      "outputs": [
        {
          "output_type": "error",
          "ename": "SyntaxError",
          "evalue": "invalid syntax (<ipython-input-1-ed850fcc29c6>, line 1)",
          "traceback": [
            "\u001b[0;36m  File \u001b[0;32m\"<ipython-input-1-ed850fcc29c6>\"\u001b[0;36m, line \u001b[0;32m1\u001b[0m\n\u001b[0;31m    .merge()\u001b[0m\n\u001b[0m    ^\u001b[0m\n\u001b[0;31mSyntaxError\u001b[0m\u001b[0;31m:\u001b[0m invalid syntax\n"
          ]
        }
      ]
    }
  ]
}