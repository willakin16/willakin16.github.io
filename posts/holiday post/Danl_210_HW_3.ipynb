{
  "nbformat": 4,
  "nbformat_minor": 0,
  "metadata": {
    "colab": {
      "provenance": []
    },
    "kernelspec": {
      "name": "python3",
      "display_name": "Python 3"
    },
    "language_info": {
      "name": "python"
    }
  },
  "cells": [
    {
      "cell_type": "markdown",
      "source": [
        "---\n",
        "title: Web-Scraping Christmas Movies\n",
        "author: Will Akin\n",
        "date: 2025-02-14\n",
        "categories: [python, programming] # tags for a blog post (e.g., python)\n",
        "image: \"pyth-basic.png\"\n",
        "\n",
        "toc: true\n",
        "---"
      ],
      "metadata": {
        "id": "p4dqN0bOF4s3"
      }
    },
    {
      "cell_type": "markdown",
      "source": [
        "#My favorite Christmas movie is Elf"
      ],
      "metadata": {
        "id": "_muCoLPEHAkU"
      }
    },
    {
      "cell_type": "markdown",
      "source": [
        "#Use code in spyder to open data frame"
      ],
      "metadata": {
        "id": "G7xpR6S-GN0a"
      }
    },
    {
      "cell_type": "code",
      "execution_count": 1,
      "metadata": {
        "colab": {
          "base_uri": "https://localhost:8080/"
        },
        "id": "AiiNfjAXEMI-",
        "outputId": "8b9a8b7a-36eb-498a-f5b7-ffdd0c4a9592"
      },
      "outputs": [
        {
          "output_type": "execute_result",
          "data": {
            "text/plain": [
              "2265"
            ]
          },
          "metadata": {},
          "execution_count": 1
        }
      ],
      "source": [
        "import pandas as pd\n",
        "holiday_movies = pd.read_csv(\"https://bcdanl.github.io/data/holiday_movies.csv\")\n",
        "len(holiday_movies)"
      ]
    },
    {
      "cell_type": "markdown",
      "source": [
        "#Use code to open url through Chrome"
      ],
      "metadata": {
        "id": "Prd1QoWdGWbK"
      }
    },
    {
      "cell_type": "code",
      "source": [
        "from selenium import webdriver  # Main module to control the browser\n",
        "from selenium.webdriver.common.by import By  # Helps locate elements on the webpage\n",
        "from selenium.webdriver.chrome.options import Options  # Allows setting browser options\n",
        "#from selenium.webdriver.support.ui import WebDriverWait\n",
        "#from selenium.webdriver.support import expected_conditions as EC\n",
        "#import time\n",
        "#import DataFrame as df\n",
        "\n",
        "options = Options()\n",
        "options.add_argument(\"window-size=1400,1200\")\n",
        "\n",
        "driver = webdriver.Chrome(options=options)\n",
        "url = \"\"https://bcdanl.github.io/data/holiday_movies.csv\"\"\n",
        "driver.get(url)"
      ],
      "metadata": {
        "id": "74KJ_B5OGWtI"
      },
      "execution_count": null,
      "outputs": []
    },
    {
      "cell_type": "markdown",
      "source": [
        "#Use these variables to analyze data"
      ],
      "metadata": {
        "id": "953vqfCVHhjg"
      }
    },
    {
      "cell_type": "code",
      "source": [
        "# tconst\n",
        "# title_type\n",
        "# primary_title\n",
        "# simple_title\n",
        "# year\n",
        "# runtime_minutes\n",
        "# average_rating\n",
        "# num_votes"
      ],
      "metadata": {
        "id": "f23CxN78HmNb"
      },
      "execution_count": null,
      "outputs": []
    }
  ]
}